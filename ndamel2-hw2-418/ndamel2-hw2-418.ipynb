{
 "cells": [
  {
   "cell_type": "code",
   "execution_count": 1,
   "id": "c0ca4771",
   "metadata": {},
   "outputs": [],
   "source": [
    "# Importing required packages\n",
    "import numpy as np\n",
    "import pandas as pd\n",
    "import matplotlib.pyplot as plt\n",
    "import seaborn as sns\n",
    "\n",
    "sns.set_style('whitegrid')\n",
    "pd.set_option('display.max_columns', None)"
   ]
  },
  {
   "cell_type": "markdown",
   "id": "7ce00c58",
   "metadata": {},
   "source": [
    "### Going over the dataset to gain some insights"
   ]
  },
  {
   "cell_type": "code",
   "execution_count": 2,
   "id": "986d3fc4",
   "metadata": {},
   "outputs": [
    {
     "data": {
      "text/html": [
       "<div>\n",
       "<style scoped>\n",
       "    .dataframe tbody tr th:only-of-type {\n",
       "        vertical-align: middle;\n",
       "    }\n",
       "\n",
       "    .dataframe tbody tr th {\n",
       "        vertical-align: top;\n",
       "    }\n",
       "\n",
       "    .dataframe thead th {\n",
       "        text-align: right;\n",
       "    }\n",
       "</style>\n",
       "<table border=\"1\" class=\"dataframe\">\n",
       "  <thead>\n",
       "    <tr style=\"text-align: right;\">\n",
       "      <th></th>\n",
       "      <th>CRASH_RECORD_ID</th>\n",
       "      <th>CRASH_DATE</th>\n",
       "      <th>POSTED_SPEED_LIMIT</th>\n",
       "      <th>TRAFFIC_CONTROL_DEVICE</th>\n",
       "      <th>DEVICE_CONDITION</th>\n",
       "      <th>WEATHER_CONDITION</th>\n",
       "      <th>LIGHTING_CONDITION</th>\n",
       "      <th>FIRST_CRASH_TYPE</th>\n",
       "      <th>TRAFFICWAY_TYPE</th>\n",
       "      <th>ROADWAY_SURFACE_COND</th>\n",
       "      <th>ROAD_DEFECT</th>\n",
       "      <th>CRASH_TYPE</th>\n",
       "      <th>INTERSECTION_RELATED_I</th>\n",
       "      <th>NOT_RIGHT_OF_WAY</th>\n",
       "      <th>HIT_AND_RUN_I</th>\n",
       "      <th>DAMAGE</th>\n",
       "      <th>DATE_POLICE_NOTIFIED</th>\n",
       "      <th>PRIM_CONTRIBUTORY_CAUSE</th>\n",
       "      <th>NUM_UNITS</th>\n",
       "      <th>INJURIES_TOTAL</th>\n",
       "      <th>INJURIES_FATAL</th>\n",
       "      <th>INJURIES_INCAPACITATING</th>\n",
       "      <th>INJURIES_NON_INCAPACITATING</th>\n",
       "      <th>INJURIES_REPORTED_NOT_EVIDENT</th>\n",
       "      <th>CRASH_HOUR</th>\n",
       "      <th>CRASH_DAY_OF_WEEK</th>\n",
       "      <th>CRASH_MONTH</th>\n",
       "    </tr>\n",
       "  </thead>\n",
       "  <tbody>\n",
       "    <tr>\n",
       "      <th>0</th>\n",
       "      <td>4fd0a3e0897b3335b94cd8d5b2d2b350eb691add56c62d...</td>\n",
       "      <td>7/10/19 17:56</td>\n",
       "      <td>35</td>\n",
       "      <td>NO CONTROLS</td>\n",
       "      <td>NO CONTROLS</td>\n",
       "      <td>CLEAR</td>\n",
       "      <td>DAYLIGHT</td>\n",
       "      <td>TURNING</td>\n",
       "      <td>ONE-WAY</td>\n",
       "      <td>DRY</td>\n",
       "      <td>NO DEFECTS</td>\n",
       "      <td>NO INJURY / DRIVE AWAY</td>\n",
       "      <td>NaN</td>\n",
       "      <td>NaN</td>\n",
       "      <td>NaN</td>\n",
       "      <td>OVER $1,500</td>\n",
       "      <td>7/10/19 18:16</td>\n",
       "      <td>IMPROPER BACKING</td>\n",
       "      <td>2</td>\n",
       "      <td>0.0</td>\n",
       "      <td>0.0</td>\n",
       "      <td>0.0</td>\n",
       "      <td>0.0</td>\n",
       "      <td>0.0</td>\n",
       "      <td>17</td>\n",
       "      <td>4</td>\n",
       "      <td>7</td>\n",
       "    </tr>\n",
       "    <tr>\n",
       "      <th>1</th>\n",
       "      <td>009e9e67203442370272e1a13d6ee51a4155dac65e583d...</td>\n",
       "      <td>6/30/17 16:00</td>\n",
       "      <td>35</td>\n",
       "      <td>STOP SIGN/FLASHER</td>\n",
       "      <td>FUNCTIONING PROPERLY</td>\n",
       "      <td>CLEAR</td>\n",
       "      <td>DAYLIGHT</td>\n",
       "      <td>TURNING</td>\n",
       "      <td>NOT DIVIDED</td>\n",
       "      <td>DRY</td>\n",
       "      <td>NO DEFECTS</td>\n",
       "      <td>INJURY AND / OR TOW DUE TO CRASH</td>\n",
       "      <td>Y</td>\n",
       "      <td>NaN</td>\n",
       "      <td>NaN</td>\n",
       "      <td>OVER $1,500</td>\n",
       "      <td>6/30/17 16:01</td>\n",
       "      <td>FAILING TO YIELD RIGHT-OF-WAY</td>\n",
       "      <td>2</td>\n",
       "      <td>0.0</td>\n",
       "      <td>0.0</td>\n",
       "      <td>0.0</td>\n",
       "      <td>0.0</td>\n",
       "      <td>0.0</td>\n",
       "      <td>16</td>\n",
       "      <td>6</td>\n",
       "      <td>6</td>\n",
       "    </tr>\n",
       "    <tr>\n",
       "      <th>2</th>\n",
       "      <td>ee9283eff3a55ac50ee58f3d9528ce1d689b1c4180b4c4...</td>\n",
       "      <td>7/10/20 10:25</td>\n",
       "      <td>30</td>\n",
       "      <td>TRAFFIC SIGNAL</td>\n",
       "      <td>FUNCTIONING PROPERLY</td>\n",
       "      <td>CLEAR</td>\n",
       "      <td>DAYLIGHT</td>\n",
       "      <td>REAR END</td>\n",
       "      <td>FOUR WAY</td>\n",
       "      <td>DRY</td>\n",
       "      <td>NO DEFECTS</td>\n",
       "      <td>NO INJURY / DRIVE AWAY</td>\n",
       "      <td>NaN</td>\n",
       "      <td>NaN</td>\n",
       "      <td>NaN</td>\n",
       "      <td>OVER $1,500</td>\n",
       "      <td>7/10/20 10:25</td>\n",
       "      <td>FAILING TO YIELD RIGHT-OF-WAY</td>\n",
       "      <td>3</td>\n",
       "      <td>0.0</td>\n",
       "      <td>0.0</td>\n",
       "      <td>0.0</td>\n",
       "      <td>0.0</td>\n",
       "      <td>0.0</td>\n",
       "      <td>10</td>\n",
       "      <td>6</td>\n",
       "      <td>7</td>\n",
       "    </tr>\n",
       "    <tr>\n",
       "      <th>3</th>\n",
       "      <td>f8960f698e870ebdc60b521b2a141a5395556bc3704191...</td>\n",
       "      <td>7/11/20 1:00</td>\n",
       "      <td>30</td>\n",
       "      <td>NO CONTROLS</td>\n",
       "      <td>NO CONTROLS</td>\n",
       "      <td>CLEAR</td>\n",
       "      <td>DARKNESS</td>\n",
       "      <td>PARKED MOTOR VEHICLE</td>\n",
       "      <td>DIVIDED - W/MEDIAN (NOT RAISED)</td>\n",
       "      <td>DRY</td>\n",
       "      <td>NO DEFECTS</td>\n",
       "      <td>NO INJURY / DRIVE AWAY</td>\n",
       "      <td>NaN</td>\n",
       "      <td>NaN</td>\n",
       "      <td>Y</td>\n",
       "      <td>$500 OR LESS</td>\n",
       "      <td>7/11/20 8:30</td>\n",
       "      <td>UNABLE TO DETERMINE</td>\n",
       "      <td>2</td>\n",
       "      <td>0.0</td>\n",
       "      <td>0.0</td>\n",
       "      <td>0.0</td>\n",
       "      <td>0.0</td>\n",
       "      <td>0.0</td>\n",
       "      <td>1</td>\n",
       "      <td>7</td>\n",
       "      <td>7</td>\n",
       "    </tr>\n",
       "    <tr>\n",
       "      <th>4</th>\n",
       "      <td>8eaa2678d1a127804ee9b8c35ddf7d63d913c14eda61d6...</td>\n",
       "      <td>7/8/20 14:00</td>\n",
       "      <td>20</td>\n",
       "      <td>NO CONTROLS</td>\n",
       "      <td>NO CONTROLS</td>\n",
       "      <td>CLEAR</td>\n",
       "      <td>DAYLIGHT</td>\n",
       "      <td>PARKED MOTOR VEHICLE</td>\n",
       "      <td>DRIVEWAY</td>\n",
       "      <td>DRY</td>\n",
       "      <td>NO DEFECTS</td>\n",
       "      <td>NO INJURY / DRIVE AWAY</td>\n",
       "      <td>NaN</td>\n",
       "      <td>NaN</td>\n",
       "      <td>NaN</td>\n",
       "      <td>OVER $1,500</td>\n",
       "      <td>7/8/20 14:15</td>\n",
       "      <td>UNABLE TO DETERMINE</td>\n",
       "      <td>2</td>\n",
       "      <td>0.0</td>\n",
       "      <td>0.0</td>\n",
       "      <td>0.0</td>\n",
       "      <td>0.0</td>\n",
       "      <td>0.0</td>\n",
       "      <td>14</td>\n",
       "      <td>4</td>\n",
       "      <td>7</td>\n",
       "    </tr>\n",
       "  </tbody>\n",
       "</table>\n",
       "</div>"
      ],
      "text/plain": [
       "                                     CRASH_RECORD_ID     CRASH_DATE  \\\n",
       "0  4fd0a3e0897b3335b94cd8d5b2d2b350eb691add56c62d...  7/10/19 17:56   \n",
       "1  009e9e67203442370272e1a13d6ee51a4155dac65e583d...  6/30/17 16:00   \n",
       "2  ee9283eff3a55ac50ee58f3d9528ce1d689b1c4180b4c4...  7/10/20 10:25   \n",
       "3  f8960f698e870ebdc60b521b2a141a5395556bc3704191...   7/11/20 1:00   \n",
       "4  8eaa2678d1a127804ee9b8c35ddf7d63d913c14eda61d6...   7/8/20 14:00   \n",
       "\n",
       "   POSTED_SPEED_LIMIT TRAFFIC_CONTROL_DEVICE      DEVICE_CONDITION  \\\n",
       "0                  35            NO CONTROLS           NO CONTROLS   \n",
       "1                  35      STOP SIGN/FLASHER  FUNCTIONING PROPERLY   \n",
       "2                  30         TRAFFIC SIGNAL  FUNCTIONING PROPERLY   \n",
       "3                  30            NO CONTROLS           NO CONTROLS   \n",
       "4                  20            NO CONTROLS           NO CONTROLS   \n",
       "\n",
       "  WEATHER_CONDITION LIGHTING_CONDITION      FIRST_CRASH_TYPE  \\\n",
       "0             CLEAR           DAYLIGHT               TURNING   \n",
       "1             CLEAR           DAYLIGHT               TURNING   \n",
       "2             CLEAR           DAYLIGHT              REAR END   \n",
       "3             CLEAR           DARKNESS  PARKED MOTOR VEHICLE   \n",
       "4             CLEAR           DAYLIGHT  PARKED MOTOR VEHICLE   \n",
       "\n",
       "                   TRAFFICWAY_TYPE ROADWAY_SURFACE_COND ROAD_DEFECT  \\\n",
       "0                          ONE-WAY                  DRY  NO DEFECTS   \n",
       "1                      NOT DIVIDED                  DRY  NO DEFECTS   \n",
       "2                         FOUR WAY                  DRY  NO DEFECTS   \n",
       "3  DIVIDED - W/MEDIAN (NOT RAISED)                  DRY  NO DEFECTS   \n",
       "4                         DRIVEWAY                  DRY  NO DEFECTS   \n",
       "\n",
       "                         CRASH_TYPE INTERSECTION_RELATED_I NOT_RIGHT_OF_WAY  \\\n",
       "0            NO INJURY / DRIVE AWAY                    NaN              NaN   \n",
       "1  INJURY AND / OR TOW DUE TO CRASH                      Y              NaN   \n",
       "2            NO INJURY / DRIVE AWAY                    NaN              NaN   \n",
       "3            NO INJURY / DRIVE AWAY                    NaN              NaN   \n",
       "4            NO INJURY / DRIVE AWAY                    NaN              NaN   \n",
       "\n",
       "  HIT_AND_RUN_I        DAMAGE DATE_POLICE_NOTIFIED  \\\n",
       "0           NaN   OVER $1,500        7/10/19 18:16   \n",
       "1           NaN   OVER $1,500        6/30/17 16:01   \n",
       "2           NaN   OVER $1,500        7/10/20 10:25   \n",
       "3             Y  $500 OR LESS         7/11/20 8:30   \n",
       "4           NaN   OVER $1,500         7/8/20 14:15   \n",
       "\n",
       "         PRIM_CONTRIBUTORY_CAUSE  NUM_UNITS  INJURIES_TOTAL  INJURIES_FATAL  \\\n",
       "0               IMPROPER BACKING          2             0.0             0.0   \n",
       "1  FAILING TO YIELD RIGHT-OF-WAY          2             0.0             0.0   \n",
       "2  FAILING TO YIELD RIGHT-OF-WAY          3             0.0             0.0   \n",
       "3            UNABLE TO DETERMINE          2             0.0             0.0   \n",
       "4            UNABLE TO DETERMINE          2             0.0             0.0   \n",
       "\n",
       "   INJURIES_INCAPACITATING  INJURIES_NON_INCAPACITATING  \\\n",
       "0                      0.0                          0.0   \n",
       "1                      0.0                          0.0   \n",
       "2                      0.0                          0.0   \n",
       "3                      0.0                          0.0   \n",
       "4                      0.0                          0.0   \n",
       "\n",
       "   INJURIES_REPORTED_NOT_EVIDENT  CRASH_HOUR  CRASH_DAY_OF_WEEK  CRASH_MONTH  \n",
       "0                            0.0          17                  4            7  \n",
       "1                            0.0          16                  6            6  \n",
       "2                            0.0          10                  6            7  \n",
       "3                            0.0           1                  7            7  \n",
       "4                            0.0          14                  4            7  "
      ]
     },
     "execution_count": 2,
     "metadata": {},
     "output_type": "execute_result"
    }
   ],
   "source": [
    "crash_census_df = pd.read_csv('Traffic_Crashes_-_Crashes.csv')\n",
    "crash_census_df.head(5)"
   ]
  },
  {
   "cell_type": "markdown",
   "id": "784e77dd",
   "metadata": {},
   "source": [
    "##### Number of rows and columns in the dataset\n"
   ]
  },
  {
   "cell_type": "code",
   "execution_count": 3,
   "id": "5ae860a9",
   "metadata": {},
   "outputs": [
    {
     "data": {
      "text/plain": [
       "(481623, 27)"
      ]
     },
     "execution_count": 3,
     "metadata": {},
     "output_type": "execute_result"
    }
   ],
   "source": [
    "crash_census_df.shape"
   ]
  },
  {
   "cell_type": "markdown",
   "id": "a48acf3b",
   "metadata": {},
   "source": [
    "##### Listening all the columns in the dataset\n"
   ]
  },
  {
   "cell_type": "code",
   "execution_count": 4,
   "id": "e580cb0d",
   "metadata": {},
   "outputs": [
    {
     "data": {
      "text/plain": [
       "Index(['CRASH_RECORD_ID', 'CRASH_DATE', 'POSTED_SPEED_LIMIT',\n",
       "       'TRAFFIC_CONTROL_DEVICE', 'DEVICE_CONDITION', 'WEATHER_CONDITION',\n",
       "       'LIGHTING_CONDITION', 'FIRST_CRASH_TYPE', 'TRAFFICWAY_TYPE',\n",
       "       'ROADWAY_SURFACE_COND', 'ROAD_DEFECT', 'CRASH_TYPE',\n",
       "       'INTERSECTION_RELATED_I', 'NOT_RIGHT_OF_WAY', 'HIT_AND_RUN_I', 'DAMAGE',\n",
       "       'DATE_POLICE_NOTIFIED', 'PRIM_CONTRIBUTORY_CAUSE', 'NUM_UNITS',\n",
       "       'INJURIES_TOTAL', 'INJURIES_FATAL', 'INJURIES_INCAPACITATING',\n",
       "       'INJURIES_NON_INCAPACITATING', 'INJURIES_REPORTED_NOT_EVIDENT',\n",
       "       'CRASH_HOUR', 'CRASH_DAY_OF_WEEK', 'CRASH_MONTH'],\n",
       "      dtype='object')"
      ]
     },
     "execution_count": 4,
     "metadata": {},
     "output_type": "execute_result"
    }
   ],
   "source": [
    "crash_census_df.columns"
   ]
  },
  {
   "cell_type": "markdown",
   "id": "94c07748",
   "metadata": {},
   "source": [
    "##### Summary statistics of the dataset\n"
   ]
  },
  {
   "cell_type": "code",
   "execution_count": 5,
   "id": "79158e13",
   "metadata": {},
   "outputs": [
    {
     "data": {
      "text/html": [
       "<div>\n",
       "<style scoped>\n",
       "    .dataframe tbody tr th:only-of-type {\n",
       "        vertical-align: middle;\n",
       "    }\n",
       "\n",
       "    .dataframe tbody tr th {\n",
       "        vertical-align: top;\n",
       "    }\n",
       "\n",
       "    .dataframe thead th {\n",
       "        text-align: right;\n",
       "    }\n",
       "</style>\n",
       "<table border=\"1\" class=\"dataframe\">\n",
       "  <thead>\n",
       "    <tr style=\"text-align: right;\">\n",
       "      <th></th>\n",
       "      <th>POSTED_SPEED_LIMIT</th>\n",
       "      <th>NUM_UNITS</th>\n",
       "      <th>INJURIES_TOTAL</th>\n",
       "      <th>INJURIES_FATAL</th>\n",
       "      <th>INJURIES_INCAPACITATING</th>\n",
       "      <th>INJURIES_NON_INCAPACITATING</th>\n",
       "      <th>INJURIES_REPORTED_NOT_EVIDENT</th>\n",
       "      <th>CRASH_HOUR</th>\n",
       "      <th>CRASH_DAY_OF_WEEK</th>\n",
       "      <th>CRASH_MONTH</th>\n",
       "    </tr>\n",
       "  </thead>\n",
       "  <tbody>\n",
       "    <tr>\n",
       "      <th>count</th>\n",
       "      <td>481623.000000</td>\n",
       "      <td>481623.000000</td>\n",
       "      <td>480659.000000</td>\n",
       "      <td>480659.000000</td>\n",
       "      <td>480659.000000</td>\n",
       "      <td>480659.000000</td>\n",
       "      <td>480659.000000</td>\n",
       "      <td>481623.000000</td>\n",
       "      <td>481623.000000</td>\n",
       "      <td>481623.000000</td>\n",
       "    </tr>\n",
       "    <tr>\n",
       "      <th>mean</th>\n",
       "      <td>28.296489</td>\n",
       "      <td>2.032058</td>\n",
       "      <td>0.176042</td>\n",
       "      <td>0.001061</td>\n",
       "      <td>0.019188</td>\n",
       "      <td>0.097524</td>\n",
       "      <td>0.058268</td>\n",
       "      <td>13.226403</td>\n",
       "      <td>4.128372</td>\n",
       "      <td>6.722227</td>\n",
       "    </tr>\n",
       "    <tr>\n",
       "      <th>std</th>\n",
       "      <td>6.485139</td>\n",
       "      <td>0.440945</td>\n",
       "      <td>0.546556</td>\n",
       "      <td>0.035491</td>\n",
       "      <td>0.162562</td>\n",
       "      <td>0.403710</td>\n",
       "      <td>0.310368</td>\n",
       "      <td>5.491833</td>\n",
       "      <td>1.973717</td>\n",
       "      <td>3.504660</td>\n",
       "    </tr>\n",
       "    <tr>\n",
       "      <th>min</th>\n",
       "      <td>0.000000</td>\n",
       "      <td>1.000000</td>\n",
       "      <td>0.000000</td>\n",
       "      <td>0.000000</td>\n",
       "      <td>0.000000</td>\n",
       "      <td>0.000000</td>\n",
       "      <td>0.000000</td>\n",
       "      <td>0.000000</td>\n",
       "      <td>1.000000</td>\n",
       "      <td>1.000000</td>\n",
       "    </tr>\n",
       "    <tr>\n",
       "      <th>25%</th>\n",
       "      <td>30.000000</td>\n",
       "      <td>2.000000</td>\n",
       "      <td>0.000000</td>\n",
       "      <td>0.000000</td>\n",
       "      <td>0.000000</td>\n",
       "      <td>0.000000</td>\n",
       "      <td>0.000000</td>\n",
       "      <td>9.000000</td>\n",
       "      <td>2.000000</td>\n",
       "      <td>4.000000</td>\n",
       "    </tr>\n",
       "    <tr>\n",
       "      <th>50%</th>\n",
       "      <td>30.000000</td>\n",
       "      <td>2.000000</td>\n",
       "      <td>0.000000</td>\n",
       "      <td>0.000000</td>\n",
       "      <td>0.000000</td>\n",
       "      <td>0.000000</td>\n",
       "      <td>0.000000</td>\n",
       "      <td>14.000000</td>\n",
       "      <td>4.000000</td>\n",
       "      <td>7.000000</td>\n",
       "    </tr>\n",
       "    <tr>\n",
       "      <th>75%</th>\n",
       "      <td>30.000000</td>\n",
       "      <td>2.000000</td>\n",
       "      <td>0.000000</td>\n",
       "      <td>0.000000</td>\n",
       "      <td>0.000000</td>\n",
       "      <td>0.000000</td>\n",
       "      <td>0.000000</td>\n",
       "      <td>17.000000</td>\n",
       "      <td>6.000000</td>\n",
       "      <td>10.000000</td>\n",
       "    </tr>\n",
       "    <tr>\n",
       "      <th>max</th>\n",
       "      <td>99.000000</td>\n",
       "      <td>18.000000</td>\n",
       "      <td>21.000000</td>\n",
       "      <td>4.000000</td>\n",
       "      <td>7.000000</td>\n",
       "      <td>21.000000</td>\n",
       "      <td>15.000000</td>\n",
       "      <td>23.000000</td>\n",
       "      <td>7.000000</td>\n",
       "      <td>12.000000</td>\n",
       "    </tr>\n",
       "  </tbody>\n",
       "</table>\n",
       "</div>"
      ],
      "text/plain": [
       "       POSTED_SPEED_LIMIT      NUM_UNITS  INJURIES_TOTAL  INJURIES_FATAL  \\\n",
       "count       481623.000000  481623.000000   480659.000000   480659.000000   \n",
       "mean            28.296489       2.032058        0.176042        0.001061   \n",
       "std              6.485139       0.440945        0.546556        0.035491   \n",
       "min              0.000000       1.000000        0.000000        0.000000   \n",
       "25%             30.000000       2.000000        0.000000        0.000000   \n",
       "50%             30.000000       2.000000        0.000000        0.000000   \n",
       "75%             30.000000       2.000000        0.000000        0.000000   \n",
       "max             99.000000      18.000000       21.000000        4.000000   \n",
       "\n",
       "       INJURIES_INCAPACITATING  INJURIES_NON_INCAPACITATING  \\\n",
       "count            480659.000000                480659.000000   \n",
       "mean                  0.019188                     0.097524   \n",
       "std                   0.162562                     0.403710   \n",
       "min                   0.000000                     0.000000   \n",
       "25%                   0.000000                     0.000000   \n",
       "50%                   0.000000                     0.000000   \n",
       "75%                   0.000000                     0.000000   \n",
       "max                   7.000000                    21.000000   \n",
       "\n",
       "       INJURIES_REPORTED_NOT_EVIDENT     CRASH_HOUR  CRASH_DAY_OF_WEEK  \\\n",
       "count                  480659.000000  481623.000000      481623.000000   \n",
       "mean                        0.058268      13.226403           4.128372   \n",
       "std                         0.310368       5.491833           1.973717   \n",
       "min                         0.000000       0.000000           1.000000   \n",
       "25%                         0.000000       9.000000           2.000000   \n",
       "50%                         0.000000      14.000000           4.000000   \n",
       "75%                         0.000000      17.000000           6.000000   \n",
       "max                        15.000000      23.000000           7.000000   \n",
       "\n",
       "         CRASH_MONTH  \n",
       "count  481623.000000  \n",
       "mean        6.722227  \n",
       "std         3.504660  \n",
       "min         1.000000  \n",
       "25%         4.000000  \n",
       "50%         7.000000  \n",
       "75%        10.000000  \n",
       "max        12.000000  "
      ]
     },
     "execution_count": 5,
     "metadata": {},
     "output_type": "execute_result"
    }
   ],
   "source": [
    "crash_census_df.describe()"
   ]
  },
  {
   "cell_type": "markdown",
   "id": "0ef769fb",
   "metadata": {},
   "source": [
    "### 1. The data set need cleaning. Decide what to do with missing values and extra attributes."
   ]
  },
  {
   "cell_type": "markdown",
   "id": "ca3f2911",
   "metadata": {},
   "source": [
    "##### Listening all the columns containing missing values in the dataset\n"
   ]
  },
  {
   "cell_type": "code",
   "execution_count": 6,
   "id": "c7eecf5d",
   "metadata": {},
   "outputs": [
    {
     "data": {
      "text/plain": [
       "CRASH_RECORD_ID                       0\n",
       "CRASH_DATE                            0\n",
       "POSTED_SPEED_LIMIT                    0\n",
       "TRAFFIC_CONTROL_DEVICE                0\n",
       "DEVICE_CONDITION                      0\n",
       "WEATHER_CONDITION                     0\n",
       "LIGHTING_CONDITION                    0\n",
       "FIRST_CRASH_TYPE                      0\n",
       "TRAFFICWAY_TYPE                       0\n",
       "ROADWAY_SURFACE_COND                  0\n",
       "ROAD_DEFECT                           0\n",
       "CRASH_TYPE                            0\n",
       "INTERSECTION_RELATED_I           372958\n",
       "NOT_RIGHT_OF_WAY                 458971\n",
       "HIT_AND_RUN_I                    340155\n",
       "DAMAGE                                0\n",
       "DATE_POLICE_NOTIFIED                  0\n",
       "PRIM_CONTRIBUTORY_CAUSE               0\n",
       "NUM_UNITS                             0\n",
       "INJURIES_TOTAL                      964\n",
       "INJURIES_FATAL                      964\n",
       "INJURIES_INCAPACITATING             964\n",
       "INJURIES_NON_INCAPACITATING         964\n",
       "INJURIES_REPORTED_NOT_EVIDENT       964\n",
       "CRASH_HOUR                            0\n",
       "CRASH_DAY_OF_WEEK                     0\n",
       "CRASH_MONTH                           0\n",
       "dtype: int64"
      ]
     },
     "execution_count": 6,
     "metadata": {},
     "output_type": "execute_result"
    }
   ],
   "source": [
    "crash_census_df.isna().sum()"
   ]
  },
  {
   "cell_type": "markdown",
   "id": "e98e6fe3",
   "metadata": {},
   "source": [
    "##### Finding missing data percent and listening all the columns where percent is greater than zero\n"
   ]
  },
  {
   "cell_type": "code",
   "execution_count": 7,
   "id": "b1e6fb8f",
   "metadata": {},
   "outputs": [
    {
     "data": {
      "text/plain": [
       "NOT_RIGHT_OF_WAY                 95.296736\n",
       "INTERSECTION_RELATED_I           77.437747\n",
       "HIT_AND_RUN_I                    70.626818\n",
       "INJURIES_REPORTED_NOT_EVIDENT     0.200157\n",
       "INJURIES_NON_INCAPACITATING       0.200157\n",
       "INJURIES_INCAPACITATING           0.200157\n",
       "INJURIES_FATAL                    0.200157\n",
       "INJURIES_TOTAL                    0.200157\n",
       "dtype: float64"
      ]
     },
     "execution_count": 7,
     "metadata": {},
     "output_type": "execute_result"
    }
   ],
   "source": [
    "missing_value = crash_census_df.isna().sum().sort_values(ascending=False)\n",
    "missing_percent = (missing_value/len(crash_census_df))*100\n",
    "missing_percent[missing_percent!=0]"
   ]
  },
  {
   "cell_type": "markdown",
   "id": "a1a24cc2",
   "metadata": {},
   "source": [
    "###### Plotting missing percent to get the visual view\n"
   ]
  },
  {
   "cell_type": "code",
   "execution_count": 8,
   "id": "b921948b",
   "metadata": {
    "scrolled": true
   },
   "outputs": [
    {
     "data": {
      "image/png": "[encoded data removed]",
      "text/plain": [
       "<Figure size 432x288 with 1 Axes>"
      ]
     },
     "metadata": {},
     "output_type": "display_data"
    }
   ],
   "source": [
    "missing_percent[missing_percent!=0].plot(kind='bar')\n",
    "plt.title(\"Missing data percent\");"
   ]
  },
  {
   "cell_type": "markdown",
   "id": "7c6f58e4",
   "metadata": {},
   "source": [
    "####  Looking at the visuals,  NOT_RIGHT_OF_WAY column have 95% of the values missing, thus analysis using NOT_RIGHT_OF_WAY column will distort finding, hence dropping this column\n"
   ]
  },
  {
   "cell_type": "code",
   "execution_count": 9,
   "id": "3c9f9a5f",
   "metadata": {},
   "outputs": [
    {
     "data": {
      "text/plain": [
       "(481623, 26)"
      ]
     },
     "execution_count": 9,
     "metadata": {},
     "output_type": "execute_result"
    }
   ],
   "source": [
    "crash_census = crash_census_df.copy()\n",
    "crash_census.drop(['NOT_RIGHT_OF_WAY'], axis = 1, inplace = True)\n",
    "crash_census.shape\n"
   ]
  },
  {
   "cell_type": "markdown",
   "id": "ec7da4ab",
   "metadata": {},
   "source": [
    "##### Filling the NaN values in INTERSECTION_RELATED_I with unknown\n"
   ]
  },
  {
   "cell_type": "code",
   "execution_count": 10,
   "id": "058a05a9",
   "metadata": {},
   "outputs": [
    {
     "data": {
      "text/plain": [
       "unknown    372958\n",
       "Y          103544\n",
       "N            5121\n",
       "Name: INTERSECTION_RELATED_I, dtype: int64"
      ]
     },
     "execution_count": 10,
     "metadata": {},
     "output_type": "execute_result"
    }
   ],
   "source": [
    "crash_census[\"INTERSECTION_RELATED_I\"].fillna(\"unknown\", inplace = True)\n",
    "crash_census['INTERSECTION_RELATED_I'].value_counts()"
   ]
  },
  {
   "cell_type": "markdown",
   "id": "4fb8d1bd",
   "metadata": {},
   "source": [
    "##### Filling the NaN values in HIT_AND_RUN_I with unknown\n"
   ]
  },
  {
   "cell_type": "code",
   "execution_count": 11,
   "id": "240549b2",
   "metadata": {},
   "outputs": [
    {
     "data": {
      "text/plain": [
       "unknown    340155\n",
       "Y          135305\n",
       "N            6163\n",
       "Name: HIT_AND_RUN_I, dtype: int64"
      ]
     },
     "execution_count": 11,
     "metadata": {},
     "output_type": "execute_result"
    }
   ],
   "source": [
    "crash_census[\"HIT_AND_RUN_I\"].fillna(\"unknown\", inplace = True)\n",
    "crash_census['HIT_AND_RUN_I'].value_counts()"
   ]
  },
  {
   "cell_type": "markdown",
   "id": "4f08e4ce",
   "metadata": {},
   "source": [
    "##### Checking unique values of INJURIES_REPORTED_NOT_EVIDENT\n"
   ]
  },
  {
   "cell_type": "code",
   "execution_count": 12,
   "id": "048e8009",
   "metadata": {},
   "outputs": [
    {
     "data": {
      "text/plain": [
       "0.0     459276\n",
       "1.0      16748\n",
       "2.0       3359\n",
       "3.0        857\n",
       "4.0        258\n",
       "5.0        108\n",
       "6.0         23\n",
       "7.0         11\n",
       "8.0          6\n",
       "9.0          6\n",
       "10.0         4\n",
       "15.0         2\n",
       "11.0         1\n",
       "Name: INJURIES_REPORTED_NOT_EVIDENT, dtype: int64"
      ]
     },
     "execution_count": 12,
     "metadata": {},
     "output_type": "execute_result"
    }
   ],
   "source": [
    "crash_census['INJURIES_REPORTED_NOT_EVIDENT'].value_counts()"
   ]
  },
  {
   "cell_type": "markdown",
   "id": "4e12bc8d",
   "metadata": {},
   "source": [
    "##### Checking unique values of INJURIES_NON_INCAPACITATING\n"
   ]
  },
  {
   "cell_type": "code",
   "execution_count": 13,
   "id": "e1a0530d",
   "metadata": {},
   "outputs": [
    {
     "data": {
      "text/plain": [
       "0.0     445059\n",
       "1.0      28135\n",
       "2.0       5101\n",
       "3.0       1513\n",
       "4.0        537\n",
       "5.0        187\n",
       "6.0         76\n",
       "7.0         26\n",
       "8.0          7\n",
       "10.0         5\n",
       "11.0         4\n",
       "9.0          3\n",
       "21.0         2\n",
       "18.0         1\n",
       "16.0         1\n",
       "14.0         1\n",
       "12.0         1\n",
       "Name: INJURIES_NON_INCAPACITATING, dtype: int64"
      ]
     },
     "execution_count": 13,
     "metadata": {},
     "output_type": "execute_result"
    }
   ],
   "source": [
    "crash_census['INJURIES_NON_INCAPACITATING'].value_counts()"
   ]
  },
  {
   "cell_type": "markdown",
   "id": "72a97859",
   "metadata": {},
   "source": [
    "##### Checking unique values of INJURIES_INCAPACITATING\n"
   ]
  },
  {
   "cell_type": "code",
   "execution_count": 14,
   "id": "a2263323",
   "metadata": {},
   "outputs": [
    {
     "data": {
      "text/plain": [
       "0.0    472771\n",
       "1.0      6911\n",
       "2.0       724\n",
       "3.0       172\n",
       "4.0        62\n",
       "5.0        15\n",
       "6.0         3\n",
       "7.0         1\n",
       "Name: INJURIES_INCAPACITATING, dtype: int64"
      ]
     },
     "execution_count": 14,
     "metadata": {},
     "output_type": "execute_result"
    }
   ],
   "source": [
    "crash_census['INJURIES_INCAPACITATING'].value_counts()"
   ]
  },
  {
   "cell_type": "markdown",
   "id": "f54250f4",
   "metadata": {},
   "source": [
    "##### Checking unique values of INJURIES_FATAL\n"
   ]
  },
  {
   "cell_type": "code",
   "execution_count": 15,
   "id": "019078bb",
   "metadata": {},
   "outputs": [
    {
     "data": {
      "text/plain": [
       "0.0    480189\n",
       "1.0       437\n",
       "2.0        27\n",
       "3.0         5\n",
       "4.0         1\n",
       "Name: INJURIES_FATAL, dtype: int64"
      ]
     },
     "execution_count": 15,
     "metadata": {},
     "output_type": "execute_result"
    }
   ],
   "source": [
    "crash_census['INJURIES_FATAL'].value_counts()"
   ]
  },
  {
   "cell_type": "markdown",
   "id": "6d00cbc6",
   "metadata": {},
   "source": [
    "##### Checking unique values of INJURIES_TOTAL\n"
   ]
  },
  {
   "cell_type": "code",
   "execution_count": 16,
   "id": "2ed906b5",
   "metadata": {},
   "outputs": [
    {
     "data": {
      "text/plain": [
       "0.0     418952\n",
       "1.0      46745\n",
       "2.0      10103\n",
       "3.0       3072\n",
       "4.0       1095\n",
       "5.0        410\n",
       "6.0        161\n",
       "7.0         60\n",
       "8.0         20\n",
       "9.0         14\n",
       "10.0         9\n",
       "15.0         5\n",
       "11.0         5\n",
       "21.0         2\n",
       "13.0         2\n",
       "12.0         2\n",
       "19.0         1\n",
       "16.0         1\n",
       "Name: INJURIES_TOTAL, dtype: int64"
      ]
     },
     "execution_count": 16,
     "metadata": {},
     "output_type": "execute_result"
    }
   ],
   "source": [
    "crash_census['INJURIES_TOTAL'].value_counts()"
   ]
  },
  {
   "cell_type": "markdown",
   "id": "d71d7038",
   "metadata": {},
   "source": [
    "##### Filling the NaN values in INJURIES_NON_INCAPACITATING,  INJURIES_INCAPACITATING,  INJURIES_FATAL, INJURIES_TOTAL with '0'\n"
   ]
  },
  {
   "cell_type": "code",
   "execution_count": 17,
   "id": "4a5722a2",
   "metadata": {},
   "outputs": [
    {
     "data": {
      "text/html": [
       "<div>\n",
       "<style scoped>\n",
       "    .dataframe tbody tr th:only-of-type {\n",
       "        vertical-align: middle;\n",
       "    }\n",
       "\n",
       "    .dataframe tbody tr th {\n",
       "        vertical-align: top;\n",
       "    }\n",
       "\n",
       "    .dataframe thead th {\n",
       "        text-align: right;\n",
       "    }\n",
       "</style>\n",
       "<table border=\"1\" class=\"dataframe\">\n",
       "  <thead>\n",
       "    <tr style=\"text-align: right;\">\n",
       "      <th></th>\n",
       "      <th>INJURIES_NON_INCAPACITATING</th>\n",
       "      <th>INJURIES_INCAPACITATING</th>\n",
       "      <th>INJURIES_FATAL</th>\n",
       "      <th>INJURIES_TOTAL</th>\n",
       "    </tr>\n",
       "  </thead>\n",
       "  <tbody>\n",
       "    <tr>\n",
       "      <th>0</th>\n",
       "      <td>0.0</td>\n",
       "      <td>0.0</td>\n",
       "      <td>0.0</td>\n",
       "      <td>0.0</td>\n",
       "    </tr>\n",
       "    <tr>\n",
       "      <th>1</th>\n",
       "      <td>0.0</td>\n",
       "      <td>0.0</td>\n",
       "      <td>0.0</td>\n",
       "      <td>0.0</td>\n",
       "    </tr>\n",
       "    <tr>\n",
       "      <th>2</th>\n",
       "      <td>0.0</td>\n",
       "      <td>0.0</td>\n",
       "      <td>0.0</td>\n",
       "      <td>0.0</td>\n",
       "    </tr>\n",
       "    <tr>\n",
       "      <th>3</th>\n",
       "      <td>0.0</td>\n",
       "      <td>0.0</td>\n",
       "      <td>0.0</td>\n",
       "      <td>0.0</td>\n",
       "    </tr>\n",
       "    <tr>\n",
       "      <th>4</th>\n",
       "      <td>0.0</td>\n",
       "      <td>0.0</td>\n",
       "      <td>0.0</td>\n",
       "      <td>0.0</td>\n",
       "    </tr>\n",
       "    <tr>\n",
       "      <th>...</th>\n",
       "      <td>...</td>\n",
       "      <td>...</td>\n",
       "      <td>...</td>\n",
       "      <td>...</td>\n",
       "    </tr>\n",
       "    <tr>\n",
       "      <th>481618</th>\n",
       "      <td>0.0</td>\n",
       "      <td>0.0</td>\n",
       "      <td>0.0</td>\n",
       "      <td>0.0</td>\n",
       "    </tr>\n",
       "    <tr>\n",
       "      <th>481619</th>\n",
       "      <td>0.0</td>\n",
       "      <td>0.0</td>\n",
       "      <td>0.0</td>\n",
       "      <td>0.0</td>\n",
       "    </tr>\n",
       "    <tr>\n",
       "      <th>481620</th>\n",
       "      <td>0.0</td>\n",
       "      <td>0.0</td>\n",
       "      <td>0.0</td>\n",
       "      <td>0.0</td>\n",
       "    </tr>\n",
       "    <tr>\n",
       "      <th>481621</th>\n",
       "      <td>0.0</td>\n",
       "      <td>0.0</td>\n",
       "      <td>0.0</td>\n",
       "      <td>0.0</td>\n",
       "    </tr>\n",
       "    <tr>\n",
       "      <th>481622</th>\n",
       "      <td>0.0</td>\n",
       "      <td>0.0</td>\n",
       "      <td>0.0</td>\n",
       "      <td>0.0</td>\n",
       "    </tr>\n",
       "  </tbody>\n",
       "</table>\n",
       "<p>481623 rows × 4 columns</p>\n",
       "</div>"
      ],
      "text/plain": [
       "        INJURIES_NON_INCAPACITATING  INJURIES_INCAPACITATING  INJURIES_FATAL  \\\n",
       "0                               0.0                      0.0             0.0   \n",
       "1                               0.0                      0.0             0.0   \n",
       "2                               0.0                      0.0             0.0   \n",
       "3                               0.0                      0.0             0.0   \n",
       "4                               0.0                      0.0             0.0   \n",
       "...                             ...                      ...             ...   \n",
       "481618                          0.0                      0.0             0.0   \n",
       "481619                          0.0                      0.0             0.0   \n",
       "481620                          0.0                      0.0             0.0   \n",
       "481621                          0.0                      0.0             0.0   \n",
       "481622                          0.0                      0.0             0.0   \n",
       "\n",
       "        INJURIES_TOTAL  \n",
       "0                  0.0  \n",
       "1                  0.0  \n",
       "2                  0.0  \n",
       "3                  0.0  \n",
       "4                  0.0  \n",
       "...                ...  \n",
       "481618             0.0  \n",
       "481619             0.0  \n",
       "481620             0.0  \n",
       "481621             0.0  \n",
       "481622             0.0  \n",
       "\n",
       "[481623 rows x 4 columns]"
      ]
     },
     "execution_count": 17,
     "metadata": {},
     "output_type": "execute_result"
    }
   ],
   "source": [
    " crash_census[['INJURIES_NON_INCAPACITATING', 'INJURIES_INCAPACITATING', 'INJURIES_FATAL', 'INJURIES_TOTAL']].fillna(value=0)"
   ]
  },
  {
   "cell_type": "markdown",
   "id": "8cb67424",
   "metadata": {},
   "source": [
    "##### Dropping CRASH_RECORD_ID as it is not playing any major role in doing the analysis, its an extra attribute \n"
   ]
  },
  {
   "cell_type": "code",
   "execution_count": 18,
   "id": "48384cc1",
   "metadata": {},
   "outputs": [
    {
     "data": {
      "text/plain": [
       "(481623, 25)"
      ]
     },
     "execution_count": 18,
     "metadata": {},
     "output_type": "execute_result"
    }
   ],
   "source": [
    "crash_census.drop(['CRASH_RECORD_ID'], axis = 1, inplace = True)\n",
    "crash_census.shape"
   ]
  },
  {
   "cell_type": "markdown",
   "id": "5073b8f7",
   "metadata": {},
   "source": [
    "#### Cleaing the data:\n",
    "The following columns had missing values \"NOT_RIGHT_OF_WAY, INTERSECTION_RELATED_I, HIT_AND_RUN_I, INJURIES_REPORTED_NOT_EVIDENT, INJURIES_NON_INCAPACITATING, INJURIES_INCAPACITATING, INJURIES_FATAL, INJURIES_TOTAL\"\n",
    "\n",
    "###### Dealing with missing values:\n",
    "\n",
    " -Filled the NaN values in INTERSECTION_RELATED_I, HIT_AND_RUN_I with __'unknown'__\n",
    " \n",
    " -Filled the NaN values in INJURIES_NON_INCAPACITATING,  INJURIES_INCAPACITATING,  INJURIES_FATAL, INJURIES_TOTAL with __'0'__\n",
    " \n",
    " -Dropped NOT_RIGHT_OF_WAY column since __95%__ of the values were missing\n",
    " \n",
    " -Dropped CRASH_RECORD_ID as it was an __extra attribute__"
   ]
  },
  {
   "cell_type": "markdown",
   "id": "861a4e4c",
   "metadata": {},
   "source": [
    "### 2. Some attributes are more useful if you break them into several attributes."
   ]
  },
  {
   "cell_type": "markdown",
   "id": "a2ad66a7",
   "metadata": {},
   "source": [
    "##### Breaking down CRASH_DATE attribute into smaller attributes to gain more information\n"
   ]
  },
  {
   "cell_type": "code",
   "execution_count": 19,
   "id": "790d5023",
   "metadata": {},
   "outputs": [
    {
     "data": {
      "text/plain": [
       "0         7/10/19 17:56\n",
       "1         6/30/17 16:00\n",
       "2         7/10/20 10:25\n",
       "3          7/11/20 1:00\n",
       "4          7/8/20 14:00\n",
       "              ...      \n",
       "481618     1/18/21 9:00\n",
       "481619    1/19/21 21:23\n",
       "481620    1/20/21 20:20\n",
       "481621    1/20/21 17:00\n",
       "481622    1/20/21 17:50\n",
       "Name: CRASH_DATE, Length: 481623, dtype: object"
      ]
     },
     "execution_count": 19,
     "metadata": {},
     "output_type": "execute_result"
    }
   ],
   "source": [
    "crash_census['CRASH_DATE']"
   ]
  },
  {
   "cell_type": "markdown",
   "id": "78fb2ef5",
   "metadata": {},
   "source": [
    "##### 'CRASH_DATE'  data type is objet, converting it to datetime data type\n"
   ]
  },
  {
   "cell_type": "code",
   "execution_count": 20,
   "id": "a2705431",
   "metadata": {},
   "outputs": [
    {
     "data": {
      "text/plain": [
       "0        2019-07-10 17:56:00\n",
       "1        2017-06-30 16:00:00\n",
       "2        2020-07-10 10:25:00\n",
       "3        2020-07-11 01:00:00\n",
       "4        2020-07-08 14:00:00\n",
       "                 ...        \n",
       "481618   2021-01-18 09:00:00\n",
       "481619   2021-01-19 21:23:00\n",
       "481620   2021-01-20 20:20:00\n",
       "481621   2021-01-20 17:00:00\n",
       "481622   2021-01-20 17:50:00\n",
       "Name: CRASH_DATE, Length: 481623, dtype: datetime64[ns]"
      ]
     },
     "execution_count": 20,
     "metadata": {},
     "output_type": "execute_result"
    }
   ],
   "source": [
    "crash_census['CRASH_DATE'] = pd.to_datetime(crash_census['CRASH_DATE'])\n",
    "crash_census['CRASH_DATE']"
   ]
  },
  {
   "cell_type": "markdown",
   "id": "f78ea7c1",
   "metadata": {},
   "source": [
    "##### Extracting year from the 'CRASH_DATE' column\n"
   ]
  },
  {
   "cell_type": "code",
   "execution_count": 21,
   "id": "57f784d0",
   "metadata": {},
   "outputs": [
    {
     "data": {
      "text/plain": [
       "0         2019\n",
       "1         2017\n",
       "2         2020\n",
       "3         2020\n",
       "4         2020\n",
       "          ... \n",
       "481618    2021\n",
       "481619    2021\n",
       "481620    2021\n",
       "481621    2021\n",
       "481622    2021\n",
       "Name: CRASH_YEAR, Length: 481623, dtype: int64"
      ]
     },
     "execution_count": 21,
     "metadata": {},
     "output_type": "execute_result"
    }
   ],
   "source": [
    "crash_census['CRASH_YEAR'] = pd.DatetimeIndex(crash_census['CRASH_DATE']).year\n",
    "crash_census['CRASH_YEAR']"
   ]
  },
  {
   "cell_type": "markdown",
   "id": "26817942",
   "metadata": {},
   "source": [
    "##### Breaking down CRASH_DATE attribute into smaller attributes to gain more information\n"
   ]
  },
  {
   "cell_type": "code",
   "execution_count": 22,
   "id": "e31330e9",
   "metadata": {
    "scrolled": true
   },
   "outputs": [
    {
     "data": {
      "text/html": [
       "<div>\n",
       "<style scoped>\n",
       "    .dataframe tbody tr th:only-of-type {\n",
       "        vertical-align: middle;\n",
       "    }\n",
       "\n",
       "    .dataframe tbody tr th {\n",
       "        vertical-align: top;\n",
       "    }\n",
       "\n",
       "    .dataframe thead th {\n",
       "        text-align: right;\n",
       "    }\n",
       "</style>\n",
       "<table border=\"1\" class=\"dataframe\">\n",
       "  <thead>\n",
       "    <tr style=\"text-align: right;\">\n",
       "      <th></th>\n",
       "      <th>CRASH_DATE</th>\n",
       "      <th>POSTED_SPEED_LIMIT</th>\n",
       "      <th>TRAFFIC_CONTROL_DEVICE</th>\n",
       "      <th>DEVICE_CONDITION</th>\n",
       "      <th>WEATHER_CONDITION</th>\n",
       "      <th>LIGHTING_CONDITION</th>\n",
       "      <th>FIRST_CRASH_TYPE</th>\n",
       "      <th>TRAFFICWAY_TYPE</th>\n",
       "      <th>ROADWAY_SURFACE_COND</th>\n",
       "      <th>ROAD_DEFECT</th>\n",
       "      <th>CRASH_TYPE</th>\n",
       "      <th>INTERSECTION_RELATED_I</th>\n",
       "      <th>HIT_AND_RUN_I</th>\n",
       "      <th>DAMAGE</th>\n",
       "      <th>DATE_POLICE_NOTIFIED</th>\n",
       "      <th>PRIM_CONTRIBUTORY_CAUSE</th>\n",
       "      <th>NUM_UNITS</th>\n",
       "      <th>INJURIES_TOTAL</th>\n",
       "      <th>INJURIES_FATAL</th>\n",
       "      <th>INJURIES_INCAPACITATING</th>\n",
       "      <th>INJURIES_NON_INCAPACITATING</th>\n",
       "      <th>INJURIES_REPORTED_NOT_EVIDENT</th>\n",
       "      <th>CRASH_HOUR</th>\n",
       "      <th>CRASH_DAY_OF_WEEK</th>\n",
       "      <th>CRASH_MONTH</th>\n",
       "      <th>CRASH_YEAR</th>\n",
       "    </tr>\n",
       "  </thead>\n",
       "  <tbody>\n",
       "    <tr>\n",
       "      <th>0</th>\n",
       "      <td>2019-07-10 17:56:00</td>\n",
       "      <td>35</td>\n",
       "      <td>NO CONTROLS</td>\n",
       "      <td>NO CONTROLS</td>\n",
       "      <td>CLEAR</td>\n",
       "      <td>DAYLIGHT</td>\n",
       "      <td>TURNING</td>\n",
       "      <td>ONE-WAY</td>\n",
       "      <td>DRY</td>\n",
       "      <td>NO DEFECTS</td>\n",
       "      <td>NO INJURY / DRIVE AWAY</td>\n",
       "      <td>unknown</td>\n",
       "      <td>unknown</td>\n",
       "      <td>OVER $1,500</td>\n",
       "      <td>7/10/19 18:16</td>\n",
       "      <td>IMPROPER BACKING</td>\n",
       "      <td>2</td>\n",
       "      <td>0.0</td>\n",
       "      <td>0.0</td>\n",
       "      <td>0.0</td>\n",
       "      <td>0.0</td>\n",
       "      <td>0.0</td>\n",
       "      <td>17</td>\n",
       "      <td>4</td>\n",
       "      <td>7</td>\n",
       "      <td>2019</td>\n",
       "    </tr>\n",
       "    <tr>\n",
       "      <th>1</th>\n",
       "      <td>2017-06-30 16:00:00</td>\n",
       "      <td>35</td>\n",
       "      <td>STOP SIGN/FLASHER</td>\n",
       "      <td>FUNCTIONING PROPERLY</td>\n",
       "      <td>CLEAR</td>\n",
       "      <td>DAYLIGHT</td>\n",
       "      <td>TURNING</td>\n",
       "      <td>NOT DIVIDED</td>\n",
       "      <td>DRY</td>\n",
       "      <td>NO DEFECTS</td>\n",
       "      <td>INJURY AND / OR TOW DUE TO CRASH</td>\n",
       "      <td>Y</td>\n",
       "      <td>unknown</td>\n",
       "      <td>OVER $1,500</td>\n",
       "      <td>6/30/17 16:01</td>\n",
       "      <td>FAILING TO YIELD RIGHT-OF-WAY</td>\n",
       "      <td>2</td>\n",
       "      <td>0.0</td>\n",
       "      <td>0.0</td>\n",
       "      <td>0.0</td>\n",
       "      <td>0.0</td>\n",
       "      <td>0.0</td>\n",
       "      <td>16</td>\n",
       "      <td>6</td>\n",
       "      <td>6</td>\n",
       "      <td>2017</td>\n",
       "    </tr>\n",
       "    <tr>\n",
       "      <th>2</th>\n",
       "      <td>2020-07-10 10:25:00</td>\n",
       "      <td>30</td>\n",
       "      <td>TRAFFIC SIGNAL</td>\n",
       "      <td>FUNCTIONING PROPERLY</td>\n",
       "      <td>CLEAR</td>\n",
       "      <td>DAYLIGHT</td>\n",
       "      <td>REAR END</td>\n",
       "      <td>FOUR WAY</td>\n",
       "      <td>DRY</td>\n",
       "      <td>NO DEFECTS</td>\n",
       "      <td>NO INJURY / DRIVE AWAY</td>\n",
       "      <td>unknown</td>\n",
       "      <td>unknown</td>\n",
       "      <td>OVER $1,500</td>\n",
       "      <td>7/10/20 10:25</td>\n",
       "      <td>FAILING TO YIELD RIGHT-OF-WAY</td>\n",
       "      <td>3</td>\n",
       "      <td>0.0</td>\n",
       "      <td>0.0</td>\n",
       "      <td>0.0</td>\n",
       "      <td>0.0</td>\n",
       "      <td>0.0</td>\n",
       "      <td>10</td>\n",
       "      <td>6</td>\n",
       "      <td>7</td>\n",
       "      <td>2020</td>\n",
       "    </tr>\n",
       "    <tr>\n",
       "      <th>3</th>\n",
       "      <td>2020-07-11 01:00:00</td>\n",
       "      <td>30</td>\n",
       "      <td>NO CONTROLS</td>\n",
       "      <td>NO CONTROLS</td>\n",
       "      <td>CLEAR</td>\n",
       "      <td>DARKNESS</td>\n",
       "      <td>PARKED MOTOR VEHICLE</td>\n",
       "      <td>DIVIDED - W/MEDIAN (NOT RAISED)</td>\n",
       "      <td>DRY</td>\n",
       "      <td>NO DEFECTS</td>\n",
       "      <td>NO INJURY / DRIVE AWAY</td>\n",
       "      <td>unknown</td>\n",
       "      <td>Y</td>\n",
       "      <td>$500 OR LESS</td>\n",
       "      <td>7/11/20 8:30</td>\n",
       "      <td>UNABLE TO DETERMINE</td>\n",
       "      <td>2</td>\n",
       "      <td>0.0</td>\n",
       "      <td>0.0</td>\n",
       "      <td>0.0</td>\n",
       "      <td>0.0</td>\n",
       "      <td>0.0</td>\n",
       "      <td>1</td>\n",
       "      <td>7</td>\n",
       "      <td>7</td>\n",
       "      <td>2020</td>\n",
       "    </tr>\n",
       "    <tr>\n",
       "      <th>4</th>\n",
       "      <td>2020-07-08 14:00:00</td>\n",
       "      <td>20</td>\n",
       "      <td>NO CONTROLS</td>\n",
       "      <td>NO CONTROLS</td>\n",
       "      <td>CLEAR</td>\n",
       "      <td>DAYLIGHT</td>\n",
       "      <td>PARKED MOTOR VEHICLE</td>\n",
       "      <td>DRIVEWAY</td>\n",
       "      <td>DRY</td>\n",
       "      <td>NO DEFECTS</td>\n",
       "      <td>NO INJURY / DRIVE AWAY</td>\n",
       "      <td>unknown</td>\n",
       "      <td>unknown</td>\n",
       "      <td>OVER $1,500</td>\n",
       "      <td>7/8/20 14:15</td>\n",
       "      <td>UNABLE TO DETERMINE</td>\n",
       "      <td>2</td>\n",
       "      <td>0.0</td>\n",
       "      <td>0.0</td>\n",
       "      <td>0.0</td>\n",
       "      <td>0.0</td>\n",
       "      <td>0.0</td>\n",
       "      <td>14</td>\n",
       "      <td>4</td>\n",
       "      <td>7</td>\n",
       "      <td>2020</td>\n",
       "    </tr>\n",
       "  </tbody>\n",
       "</table>\n",
       "</div>"
      ],
      "text/plain": [
       "           CRASH_DATE  POSTED_SPEED_LIMIT TRAFFIC_CONTROL_DEVICE  \\\n",
       "0 2019-07-10 17:56:00                  35            NO CONTROLS   \n",
       "1 2017-06-30 16:00:00                  35      STOP SIGN/FLASHER   \n",
       "2 2020-07-10 10:25:00                  30         TRAFFIC SIGNAL   \n",
       "3 2020-07-11 01:00:00                  30            NO CONTROLS   \n",
       "4 2020-07-08 14:00:00                  20            NO CONTROLS   \n",
       "\n",
       "       DEVICE_CONDITION WEATHER_CONDITION LIGHTING_CONDITION  \\\n",
       "0           NO CONTROLS             CLEAR           DAYLIGHT   \n",
       "1  FUNCTIONING PROPERLY             CLEAR           DAYLIGHT   \n",
       "2  FUNCTIONING PROPERLY             CLEAR           DAYLIGHT   \n",
       "3           NO CONTROLS             CLEAR           DARKNESS   \n",
       "4           NO CONTROLS             CLEAR           DAYLIGHT   \n",
       "\n",
       "       FIRST_CRASH_TYPE                  TRAFFICWAY_TYPE ROADWAY_SURFACE_COND  \\\n",
       "0               TURNING                          ONE-WAY                  DRY   \n",
       "1               TURNING                      NOT DIVIDED                  DRY   \n",
       "2              REAR END                         FOUR WAY                  DRY   \n",
       "3  PARKED MOTOR VEHICLE  DIVIDED - W/MEDIAN (NOT RAISED)                  DRY   \n",
       "4  PARKED MOTOR VEHICLE                         DRIVEWAY                  DRY   \n",
       "\n",
       "  ROAD_DEFECT                        CRASH_TYPE INTERSECTION_RELATED_I  \\\n",
       "0  NO DEFECTS            NO INJURY / DRIVE AWAY                unknown   \n",
       "1  NO DEFECTS  INJURY AND / OR TOW DUE TO CRASH                      Y   \n",
       "2  NO DEFECTS            NO INJURY / DRIVE AWAY                unknown   \n",
       "3  NO DEFECTS            NO INJURY / DRIVE AWAY                unknown   \n",
       "4  NO DEFECTS            NO INJURY / DRIVE AWAY                unknown   \n",
       "\n",
       "  HIT_AND_RUN_I        DAMAGE DATE_POLICE_NOTIFIED  \\\n",
       "0       unknown   OVER $1,500        7/10/19 18:16   \n",
       "1       unknown   OVER $1,500        6/30/17 16:01   \n",
       "2       unknown   OVER $1,500        7/10/20 10:25   \n",
       "3             Y  $500 OR LESS         7/11/20 8:30   \n",
       "4       unknown   OVER $1,500         7/8/20 14:15   \n",
       "\n",
       "         PRIM_CONTRIBUTORY_CAUSE  NUM_UNITS  INJURIES_TOTAL  INJURIES_FATAL  \\\n",
       "0               IMPROPER BACKING          2             0.0             0.0   \n",
       "1  FAILING TO YIELD RIGHT-OF-WAY          2             0.0             0.0   \n",
       "2  FAILING TO YIELD RIGHT-OF-WAY          3             0.0             0.0   \n",
       "3            UNABLE TO DETERMINE          2             0.0             0.0   \n",
       "4            UNABLE TO DETERMINE          2             0.0             0.0   \n",
       "\n",
       "   INJURIES_INCAPACITATING  INJURIES_NON_INCAPACITATING  \\\n",
       "0                      0.0                          0.0   \n",
       "1                      0.0                          0.0   \n",
       "2                      0.0                          0.0   \n",
       "3                      0.0                          0.0   \n",
       "4                      0.0                          0.0   \n",
       "\n",
       "   INJURIES_REPORTED_NOT_EVIDENT  CRASH_HOUR  CRASH_DAY_OF_WEEK  CRASH_MONTH  \\\n",
       "0                            0.0          17                  4            7   \n",
       "1                            0.0          16                  6            6   \n",
       "2                            0.0          10                  6            7   \n",
       "3                            0.0           1                  7            7   \n",
       "4                            0.0          14                  4            7   \n",
       "\n",
       "   CRASH_YEAR  \n",
       "0        2019  \n",
       "1        2017  \n",
       "2        2020  \n",
       "3        2020  \n",
       "4        2020  "
      ]
     },
     "execution_count": 22,
     "metadata": {},
     "output_type": "execute_result"
    }
   ],
   "source": [
    "crash_census.head()"
   ]
  },
  {
   "cell_type": "markdown",
   "id": "29892dcf",
   "metadata": {},
   "source": [
    "==> Broken down __CRASH_DATE__ attribute.\n",
    "\n",
    "   Droping __CRASH_DATE__ attribute as this attribute has now been broken down into several attributes in the data set where the time, day, and month, year of the crash are given as separate attributes.\n"
   ]
  },
  {
   "cell_type": "code",
   "execution_count": 23,
   "id": "1c76e3c6",
   "metadata": {},
   "outputs": [
    {
     "data": {
      "text/plain": [
       "(481623, 25)"
      ]
     },
     "execution_count": 23,
     "metadata": {},
     "output_type": "execute_result"
    }
   ],
   "source": [
    "crash_census.drop(['CRASH_DATE'], axis = 1, inplace = True)\n",
    "crash_census.shape"
   ]
  },
  {
   "cell_type": "markdown",
   "id": "a5102188",
   "metadata": {},
   "source": [
    "### 3. What are some insights about the crashes and date/time? You can look into season, day of the week, day/night, lightning, weather, etc."
   ]
  },
  {
   "cell_type": "markdown",
   "id": "3aaf6f89",
   "metadata": {},
   "source": [
    "##### Observing CRASH_HOUR\n"
   ]
  },
  {
   "cell_type": "code",
   "execution_count": 24,
   "id": "27ef2754",
   "metadata": {},
   "outputs": [
    {
     "name": "stderr",
     "output_type": "stream",
     "text": [
      "C:\\Users\\nehad\\anaconda3\\lib\\site-packages\\seaborn\\distributions.py:2557: FutureWarning: `distplot` is a deprecated function and will be removed in a future version. Please adapt your code to use either `displot` (a figure-level function with similar flexibility) or `histplot` (an axes-level function for histograms).\n",
      "  warnings.warn(msg, FutureWarning)\n"
     ]
    },
    {
     "data": {
      "text/plain": [
       "<AxesSubplot:xlabel='CRASH_HOUR'>"
      ]
     },
     "execution_count": 24,
     "metadata": {},
     "output_type": "execute_result"
    },
    {
     "data": {
      "image/png": "[encoded data removed]",
      "text/plain": [
       "<Figure size 432x288 with 1 Axes>"
      ]
     },
     "metadata": {},
     "output_type": "display_data"
    }
   ],
   "source": [
    "sns.distplot(crash_census['CRASH_HOUR'], bins=24, norm_hist=True ,kde=False)"
   ]
  },
  {
   "cell_type": "markdown",
   "id": "47ccc7db",
   "metadata": {},
   "source": [
    "==> From the above graph we can conclude that most of the accidents occur during __14:00 to 16:00 hour__ timeframe\n"
   ]
  },
  {
   "cell_type": "markdown",
   "id": "cbf878bc",
   "metadata": {},
   "source": [
    "##### Observing CRASH_DAY_OF_WEEK\n"
   ]
  },
  {
   "cell_type": "code",
   "execution_count": 25,
   "id": "2b43b0ca",
   "metadata": {},
   "outputs": [
    {
     "data": {
      "text/plain": [
       "<AxesSubplot:xlabel='CRASH_DAY_OF_WEEK'>"
      ]
     },
     "execution_count": 25,
     "metadata": {},
     "output_type": "execute_result"
    },
    {
     "data": {
      "image/png": "[encoded data removed]",
      "text/plain": [
       "<Figure size 432x288 with 1 Axes>"
      ]
     },
     "metadata": {},
     "output_type": "display_data"
    }
   ],
   "source": [
    "sns.distplot(crash_census['CRASH_DAY_OF_WEEK'], bins=7, norm_hist=True, kde=False)"
   ]
  },
  {
   "cell_type": "markdown",
   "id": "e38ca63f",
   "metadata": {},
   "source": [
    "==> From the above graph we can conclude that almost everyday of the week has the same number of accidents but __Saturday__ has the most accident.\n"
   ]
  },
  {
   "cell_type": "markdown",
   "id": "b9ddb24c",
   "metadata": {},
   "source": [
    "##### Observing CRASH_MONTH\n"
   ]
  },
  {
   "cell_type": "code",
   "execution_count": 26,
   "id": "e3c0be41",
   "metadata": {},
   "outputs": [
    {
     "data": {
      "text/plain": [
       "<AxesSubplot:xlabel='CRASH_MONTH'>"
      ]
     },
     "execution_count": 26,
     "metadata": {},
     "output_type": "execute_result"
    },
    {
     "data": {
      "image/png": "[encoded data removed]",
      "text/plain": [
       "<Figure size 432x288 with 1 Axes>"
      ]
     },
     "metadata": {},
     "output_type": "display_data"
    }
   ],
   "source": [
    "sns.distplot(crash_census['CRASH_MONTH'], bins=12, norm_hist=True, kde=False)"
   ]
  },
  {
   "cell_type": "markdown",
   "id": "c071244f",
   "metadata": {},
   "source": [
    "==> From the above graph we can conclude that most of the accidents occur during __October__ month\n"
   ]
  },
  {
   "cell_type": "markdown",
   "id": "3f2ee3c9",
   "metadata": {},
   "source": [
    "##### Observing Weekend (Saturday and Sunday) data\n"
   ]
  },
  {
   "cell_type": "code",
   "execution_count": 27,
   "id": "39d68206",
   "metadata": {},
   "outputs": [
    {
     "name": "stderr",
     "output_type": "stream",
     "text": [
      "C:\\Users\\nehad\\anaconda3\\lib\\site-packages\\seaborn\\distributions.py:2557: FutureWarning: `distplot` is a deprecated function and will be removed in a future version. Please adapt your code to use either `displot` (a figure-level function with similar flexibility) or `histplot` (an axes-level function for histograms).\n",
      "  warnings.warn(msg, FutureWarning)\n"
     ]
    },
    {
     "data": {
      "text/plain": [
       "<AxesSubplot:xlabel='CRASH_HOUR'>"
      ]
     },
     "execution_count": 27,
     "metadata": {},
     "output_type": "execute_result"
    },
    {
     "data": {
      "image/png": "[encoded data removed]",
      "text/plain": [
       "<Figure size 432x288 with 1 Axes>"
      ]
     },
     "metadata": {},
     "output_type": "display_data"
    }
   ],
   "source": [
    "weekend_data = crash_census[(crash_census['CRASH_DAY_OF_WEEK']==6) | (crash_census['CRASH_DAY_OF_WEEK']==7)]\n",
    "weekend_data['CRASH_HOUR'].value_counts().sort_values(ascending=False)\n",
    "sns.distplot(weekend_data['CRASH_HOUR'], bins=24, norm_hist=True, kde=False)\n"
   ]
  },
  {
   "cell_type": "markdown",
   "id": "5e49406c",
   "metadata": {},
   "source": [
    "==> From the above graph we can conclude that most accidents occur during during __14:00 to 15:00 hour__ timeframe on __weekends__.\n"
   ]
  },
  {
   "cell_type": "markdown",
   "id": "81e237fe",
   "metadata": {},
   "source": [
    "##### Observing Weekday (Monday - Friday) data\n"
   ]
  },
  {
   "cell_type": "code",
   "execution_count": 28,
   "id": "55d30a19",
   "metadata": {},
   "outputs": [
    {
     "name": "stderr",
     "output_type": "stream",
     "text": [
      "C:\\Users\\nehad\\anaconda3\\lib\\site-packages\\seaborn\\distributions.py:2557: FutureWarning: `distplot` is a deprecated function and will be removed in a future version. Please adapt your code to use either `displot` (a figure-level function with similar flexibility) or `histplot` (an axes-level function for histograms).\n",
      "  warnings.warn(msg, FutureWarning)\n"
     ]
    },
    {
     "data": {
      "text/plain": [
       "<AxesSubplot:xlabel='CRASH_HOUR'>"
      ]
     },
     "execution_count": 28,
     "metadata": {},
     "output_type": "execute_result"
    },
    {
     "data": {
      "image/png": "[encoded data removed]",
      "text/plain": [
       "<Figure size 432x288 with 1 Axes>"
      ]
     },
     "metadata": {},
     "output_type": "display_data"
    }
   ],
   "source": [
    "weekday_data = crash_census[(crash_census['CRASH_DAY_OF_WEEK']!=6) & (crash_census['CRASH_DAY_OF_WEEK']!=7)]\n",
    "weekday_data['CRASH_HOUR'].value_counts().sort_values(ascending=False)\n",
    "sns.distplot(weekday_data['CRASH_HOUR'], bins=24, norm_hist=True, kde=False)\n"
   ]
  },
  {
   "cell_type": "markdown",
   "id": "89b56085",
   "metadata": {},
   "source": [
    "==> From the above graph we can conclude that most accidents occur during __14:00 to 16:00 hour__ timeframe on __weekdays__ (Monday to Friday)\n",
    "\n",
    "\n"
   ]
  },
  {
   "cell_type": "markdown",
   "id": "ed26a245",
   "metadata": {},
   "source": [
    "### 4. Has number of deadly crashes increased recently? Look at the data over the years. Can you identify any significant increase/decrease?"
   ]
  },
  {
   "cell_type": "code",
   "execution_count": 29,
   "id": "b1424849",
   "metadata": {},
   "outputs": [
    {
     "data": {
      "text/plain": [
       "<AxesSubplot:>"
      ]
     },
     "execution_count": 29,
     "metadata": {},
     "output_type": "execute_result"
    },
    {
     "data": {
      "image/png": "[encoded data removed]",
      "text/plain": [
       "<Figure size 1440x720 with 1 Axes>"
      ]
     },
     "metadata": {},
     "output_type": "display_data"
    }
   ],
   "source": [
    "#crash data over the years.\n",
    "pd.DataFrame(crash_census['CRASH_YEAR'].value_counts().sort_index()).plot(kind = 'bar', figsize = (20,10))\n"
   ]
  },
  {
   "cell_type": "markdown",
   "id": "415c1e1c",
   "metadata": {},
   "source": [
    "==> From the above graph we can conclude that the injuries increased till the year __2018 to 2019__. (There is not enough data for the year 2020 and 2021, possibly because of pandemic)\n"
   ]
  },
  {
   "cell_type": "markdown",
   "id": "e9466b90",
   "metadata": {},
   "source": [
    "### 5. Investigate number and type of injuries based on the speed limit."
   ]
  },
  {
   "cell_type": "code",
   "execution_count": 30,
   "id": "1a33e5fd",
   "metadata": {},
   "outputs": [
    {
     "data": {
      "text/plain": [
       "Text(0, 0.5, 'Total')"
      ]
     },
     "execution_count": 30,
     "metadata": {},
     "output_type": "execute_result"
    },
    {
     "data": {
      "image/png": "[encoded data removed]",
      "text/plain": [
       "<Figure size 1080x648 with 1 Axes>"
      ]
     },
     "metadata": {},
     "output_type": "display_data"
    }
   ],
   "source": [
    "\n",
    "injury_types = ['INJURIES_FATAL', 'INJURIES_INCAPACITATING', 'INJURIES_NON_INCAPACITATING', 'INJURIES_REPORTED_NOT_EVIDENT']\n",
    "\n",
    "crash_census_no_zero = crash_census[crash_census['INJURIES_TOTAL'] > 0]\n",
    "\n",
    "crash_by_types = crash_census_no_zero.groupby(['POSTED_SPEED_LIMIT'])[\n",
    "    injury_types\n",
    "].sum()\n",
    "plt = crash_by_types.plot(figsize=(15,9))\n",
    "plt.set_xlabel(\"Speed limit\")\n",
    "plt.set_ylabel(\"Total\")\n"
   ]
  },
  {
   "cell_type": "markdown",
   "id": "8871f755",
   "metadata": {},
   "source": [
    "==> From the above graph we can infer that there is a spike in number of injuries when __speed limit is 30__.\n"
   ]
  },
  {
   "cell_type": "markdown",
   "id": "5437ff2a",
   "metadata": {},
   "source": [
    "### 6. Is there a relationship between hit and run crashes and number of fatal injuries?"
   ]
  },
  {
   "cell_type": "code",
   "execution_count": 31,
   "id": "4e1b5ea1",
   "metadata": {},
   "outputs": [
    {
     "data": {
      "text/plain": [
       "0    unknown\n",
       "1    unknown\n",
       "2    unknown\n",
       "3          Y\n",
       "4    unknown\n",
       "Name: HIT_AND_RUN_I, dtype: object"
      ]
     },
     "execution_count": 31,
     "metadata": {},
     "output_type": "execute_result"
    }
   ],
   "source": [
    "df_hit_and_run = crash_census['HIT_AND_RUN_I']\n",
    "df_hit_and_run.head(5)"
   ]
  },
  {
   "cell_type": "code",
   "execution_count": 32,
   "id": "836d57d6",
   "metadata": {},
   "outputs": [
    {
     "data": {
      "text/plain": [
       "1    135305\n",
       "0      6163\n",
       "Name: HIT_AND_RUN_I, dtype: int64"
      ]
     },
     "execution_count": 32,
     "metadata": {},
     "output_type": "execute_result"
    }
   ],
   "source": [
    "df1_witout_unknown = crash_census[crash_census['HIT_AND_RUN_I'] != 'unknown']\n",
    "\n",
    "df2__witout_unknown = df1_witout_unknown.replace({'HIT_AND_RUN_I' : { 'Y' : 1, 'N' : 0}})\n",
    "df2__witout_unknown['HIT_AND_RUN_I'].value_counts()\n"
   ]
  },
  {
   "cell_type": "code",
   "execution_count": 33,
   "id": "9a6d4bdb",
   "metadata": {},
   "outputs": [
    {
     "data": {
      "text/html": [
       "<div>\n",
       "<style scoped>\n",
       "    .dataframe tbody tr th:only-of-type {\n",
       "        vertical-align: middle;\n",
       "    }\n",
       "\n",
       "    .dataframe tbody tr th {\n",
       "        vertical-align: top;\n",
       "    }\n",
       "\n",
       "    .dataframe thead th {\n",
       "        text-align: right;\n",
       "    }\n",
       "</style>\n",
       "<table border=\"1\" class=\"dataframe\">\n",
       "  <thead>\n",
       "    <tr style=\"text-align: right;\">\n",
       "      <th></th>\n",
       "      <th>INJURIES_FATAL</th>\n",
       "      <th>HIT_AND_RUN_I</th>\n",
       "    </tr>\n",
       "  </thead>\n",
       "  <tbody>\n",
       "    <tr>\n",
       "      <th>INJURIES_FATAL</th>\n",
       "      <td>1.000000</td>\n",
       "      <td>-0.004078</td>\n",
       "    </tr>\n",
       "    <tr>\n",
       "      <th>HIT_AND_RUN_I</th>\n",
       "      <td>-0.004078</td>\n",
       "      <td>1.000000</td>\n",
       "    </tr>\n",
       "  </tbody>\n",
       "</table>\n",
       "</div>"
      ],
      "text/plain": [
       "                INJURIES_FATAL  HIT_AND_RUN_I\n",
       "INJURIES_FATAL        1.000000      -0.004078\n",
       "HIT_AND_RUN_I        -0.004078       1.000000"
      ]
     },
     "execution_count": 33,
     "metadata": {},
     "output_type": "execute_result"
    }
   ],
   "source": [
    "df2_Corr = df2__witout_unknown[['INJURIES_FATAL', 'HIT_AND_RUN_I']].corr()\n",
    "df2_Corr"
   ]
  },
  {
   "cell_type": "code",
   "execution_count": 34,
   "id": "90c49df8",
   "metadata": {
    "scrolled": true
   },
   "outputs": [
    {
     "data": {
      "text/plain": [
       "<AxesSubplot:>"
      ]
     },
     "execution_count": 34,
     "metadata": {},
     "output_type": "execute_result"
    },
    {
     "data": {
      "image/png": "[encoded data removed]",
      "text/plain": [
       "<Figure size 432x288 with 2 Axes>"
      ]
     },
     "metadata": {},
     "output_type": "display_data"
    }
   ],
   "source": [
    "sns.heatmap(df2_Corr.corr(), annot = True, fmt='.2g',cmap= 'coolwarm')"
   ]
  },
  {
   "cell_type": "markdown",
   "id": "9613ebe7",
   "metadata": {},
   "source": [
    "==> After observing the values from the heatmap, we can conclude that there is __no co-realtion__ between INJURIES_FATAL and HIT_AND_RUN_I as we are getting a negative co-relation"
   ]
  },
  {
   "cell_type": "markdown",
   "id": "283a81bb",
   "metadata": {},
   "source": [
    "### 7. Do intersection-related crashes result in more fatal injuries?"
   ]
  },
  {
   "cell_type": "code",
   "execution_count": 35,
   "id": "7c580ab8",
   "metadata": {},
   "outputs": [
    {
     "data": {
      "text/plain": [
       "<AxesSubplot:>"
      ]
     },
     "execution_count": 35,
     "metadata": {},
     "output_type": "execute_result"
    },
    {
     "data": {
      "image/png": "[encoded data removed]",
      "text/plain": [
       "<Figure size 432x288 with 2 Axes>"
      ]
     },
     "metadata": {},
     "output_type": "display_data"
    }
   ],
   "source": [
    "\n",
    "crash_census = crash_census[crash_census['INTERSECTION_RELATED_I'] != 'unknown']\n",
    "\n",
    "crash_census.replace({'INTERSECTION_RELATED_I' : { 'Y' : 1, 'N' : 0}}, inplace=True)\n",
    "crash_census['INTERSECTION_RELATED_I'].corr(crash_census['INJURIES_FATAL'])\n",
    "\n",
    "intersection_injuries_df = crash_census[['INTERSECTION_RELATED_I', 'INJURIES_FATAL']].corr()\n",
    "\n",
    "sns.heatmap(intersection_injuries_df.corr(), annot = True, fmt='.2g',cmap= 'coolwarm')"
   ]
  },
  {
   "cell_type": "markdown",
   "id": "6e965377",
   "metadata": {},
   "source": [
    "==> After observing the values from the heatmap, we can conclude that there is __no co-relation__ between intersection-related crashes and fatal injuries"
   ]
  },
  {
   "cell_type": "markdown",
   "id": "0171c61c",
   "metadata": {},
   "source": [
    "### 8. Come up with at least two more interesting insights and visualize them."
   ]
  },
  {
   "cell_type": "markdown",
   "id": "e9326789",
   "metadata": {},
   "source": [
    "##### 8.1 Observing WEATHER_CONDITION\n"
   ]
  },
  {
   "cell_type": "code",
   "execution_count": 36,
   "id": "7ce879c2",
   "metadata": {
    "pycharm": {
     "name": "#%%\n"
    }
   },
   "outputs": [
    {
     "data": {
      "text/plain": [
       "CLEAR                       85228\n",
       "RAIN                        11579\n",
       "SNOW                         4492\n",
       "CLOUDY/OVERCAST              4052\n",
       "UNKNOWN                      2304\n",
       "OTHER                         362\n",
       "SLEET/HAIL                    215\n",
       "FOG/SMOKE/HAZE                210\n",
       "FREEZING RAIN/DRIZZLE         159\n",
       "BLOWING SNOW                   40\n",
       "SEVERE CROSS WIND GATE         23\n",
       "BLOWING SAND, SOIL, DIRT        1\n",
       "Name: WEATHER_CONDITION, dtype: int64"
      ]
     },
     "execution_count": 36,
     "metadata": {},
     "output_type": "execute_result"
    }
   ],
   "source": [
    "crash_census['WEATHER_CONDITION'].value_counts()"
   ]
  },
  {
   "cell_type": "code",
   "execution_count": 37,
   "id": "14610e2a",
   "metadata": {
    "pycharm": {
     "name": "#%%\n"
    },
    "scrolled": true
   },
   "outputs": [
    {
     "data": {
      "image/png": "[encoded data removed]",
      "text/plain": [
       "<Figure size 1440x720 with 1 Axes>"
      ]
     },
     "metadata": {},
     "output_type": "display_data"
    }
   ],
   "source": [
    "pd.DataFrame(crash_census['WEATHER_CONDITION'].value_counts()).plot(kind = 'bar', figsize = (20,10))\n",
    "plt.set_title('Crashes in different weather conditions');\n"
   ]
  },
  {
   "cell_type": "markdown",
   "id": "dfc1526a",
   "metadata": {},
   "source": [
    "==> From the above graph we can infer that most of the accidents happen on a __clear day__. Maybe people are careless while driving on a clear day and more careful while driving on a rainy/snow day."
   ]
  },
  {
   "cell_type": "markdown",
   "id": "211eed4b",
   "metadata": {},
   "source": [
    "##### 8.2 Finding what is the LIGHTING_CONDITION  at time of crash usually\n"
   ]
  },
  {
   "cell_type": "code",
   "execution_count": 38,
   "id": "fe6f8d87",
   "metadata": {
    "pycharm": {
     "name": "#%%\n"
    }
   },
   "outputs": [
    {
     "data": {
      "text/plain": [
       "<AxesSubplot:>"
      ]
     },
     "execution_count": 38,
     "metadata": {},
     "output_type": "execute_result"
    },
    {
     "data": {
      "image/png": "[encoded data removed]",
      "text/plain": [
       "<Figure size 1440x720 with 1 Axes>"
      ]
     },
     "metadata": {},
     "output_type": "display_data"
    }
   ],
   "source": [
    "pd.DataFrame(crash_census['LIGHTING_CONDITION'].value_counts()).plot(kind = 'bar', figsize = (20,10))"
   ]
  },
  {
   "cell_type": "markdown",
   "id": "2bb897de",
   "metadata": {},
   "source": [
    "==> From the above graph we can infer that most of the crashes happen during __day time__ . This trend in the above graph is maybe because people tend to be more careful while driving when there is more darkness.\n"
   ]
  }
 ],
 "metadata": {
  "kernelspec": {
   "display_name": "Python 3",
   "language": "python",
   "name": "python3"
  },
  "language_info": {
   "codemirror_mode": {
    "name": "ipython",
    "version": 3
   },
   "file_extension": ".py",
   "mimetype": "text/x-python",
   "name": "python",
   "nbconvert_exporter": "python",
   "pygments_lexer": "ipython3",
   "version": "3.8.8"
  }
 },
 "nbformat": 4,
 "nbformat_minor": 5
}
